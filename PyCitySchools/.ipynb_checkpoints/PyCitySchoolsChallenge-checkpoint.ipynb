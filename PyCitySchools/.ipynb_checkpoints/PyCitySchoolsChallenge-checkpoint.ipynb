{
 "cells": [
  {
   "cell_type": "markdown",
   "id": "d3a09cee",
   "metadata": {},
   "source": [
    "# PyCity Schools Analysis\n",
    "\n",
    "Charter Schools are the highest performing schools by percent of overall students passing math and reading. The 5 schools with the highest percentage of students were all Charter Schools. Conversely, District Schools were the lowest performing schools by percent of overall students passing math and reading. The 5 schools with the lowest percentage of passing students were all District Schools.\n",
    "\n",
    "This DataSet is interesting when comparing schools by size, average test score and overall percent of students passing. There are only 6 points of difference in the average math scores between small and medium schools verses large schools. Similarly, there are only 2 points of difference in the average reading scores between small and medium schools verses large schools. However, when we compare overall passing rates between schools by size, there is a disparate amount of students not passing in large schools vs medium/small schools (58% vs 90%). \n",
    "\n",
    "It appears that most of the large schools are District Schools, which are under-performing when compared to small/medium sized Charter Schools. What is causing the wide gap between students passing in District vs Charter and large vs small and medium schools when students as a whole are scoring similarly in subjects no matter the school size or type. Further data is needed to determine what other factors are impacting large schools. \n"
   ]
  },
  {
   "cell_type": "code",
   "execution_count": null,
   "id": "c269786b",
   "metadata": {},
   "outputs": [],
   "source": [
    "# Dependencies and Setup\n",
    "import pandas as pd\n",
    "from pathlib import Path\n",
    "import os\n",
    "\n",
    "# File to Load (Remember to Change These)\n",
    "school_data_to_load = os.path.join(\"..\", \"Resources\", \"schools_complete.csv\")\n",
    "student_data_to_load = os.path.join(\"..\", \"Resources\", \"students_complete.csv\")\n",
    "\n",
    "# Read School and Student Data File and store into Pandas DataFrames\n",
    "school_data = pd.read_csv(school_data_to_load)\n",
    "student_data = pd.read_csv(student_data_to_load)\n",
    "\n",
    "# Combine the data into a single dataset.  \n",
    "school_data_complete = pd.merge(student_data, school_data, how=\"left\", on=[\"school_name\", \"school_name\"])\n",
    "school_data_complete.head()"
   ]
  },
  {
   "cell_type": "code",
   "execution_count": null,
   "id": "2e55abb9",
   "metadata": {},
   "outputs": [],
   "source": [
    "#District Summary\n",
    "# Calculate the total number of unique schools\n",
    "school_count = school_data_complete[\"school_name\"].unique()\n",
    "total_schools = len(school_count)\n",
    "print(f'There are {total_schools} unique schools.')"
   ]
  },
  {
   "cell_type": "code",
   "execution_count": null,
   "id": "1e35bbe1",
   "metadata": {},
   "outputs": [],
   "source": [
    "#District Summary\n",
    "# Calculate the total number of students\n",
    "student_count = school_data_complete[\"student_name\"]\n",
    "total_student_count = len(student_count)\n",
    "\n",
    "print(f'There are {total_student_count} total students.')"
   ]
  },
  {
   "cell_type": "code",
   "execution_count": null,
   "id": "307b3a63",
   "metadata": {},
   "outputs": [],
   "source": [
    "#District Summary\n",
    "# Calculate the total budget\n",
    "total_budget = sum(school_data_complete['budget'].unique())\n",
    "\n",
    "print(f'The total budget is {total_budget}.')"
   ]
  },
  {
   "cell_type": "code",
   "execution_count": null,
   "id": "e0a405f5",
   "metadata": {},
   "outputs": [],
   "source": [
    "#District Summary\n",
    "# Calculate the average (mean) math score\n",
    "average_math_score = school_data_complete['math_score'].mean()\n",
    "\n",
    "print(f'The average (mean) math score is {average_math_score}.')"
   ]
  },
  {
   "cell_type": "code",
   "execution_count": null,
   "id": "5f8a083d",
   "metadata": {},
   "outputs": [],
   "source": [
    "#District Summary\n",
    "# Calculate the average (mean) reading score\n",
    "average_reading_score = school_data_complete['reading_score'].mean()\n",
    "\n",
    "print(f'The average (mean) reading score is {average_reading_score}.')"
   ]
  },
  {
   "cell_type": "code",
   "execution_count": null,
   "id": "766130da",
   "metadata": {},
   "outputs": [],
   "source": [
    "#District Summary\n",
    "# Use the following to calculate the percentage of students who passed math (math scores greather than or equal to 70)\n",
    "passing_math_count = school_data_complete[(school_data_complete[\"math_score\"] >= 70)].count()[\"student_name\"]\n",
    "passing_math_percentage = passing_math_count / float(total_student_count) * 100\n",
    "\n",
    "print(f'The percent of students who passed math is {passing_math_percentage}%')"
   ]
  },
  {
   "cell_type": "code",
   "execution_count": null,
   "id": "ae73c49c",
   "metadata": {},
   "outputs": [],
   "source": [
    "#District Summary\n",
    "# Calculate the percentage of students who passeed reading (hint: look at how the math percentage was calculated)  \n",
    "passing_reading_count = school_data_complete[(school_data_complete[\"reading_score\"] >= 70)].count()[\"student_name\"]\n",
    "passing_reading_percentage = passing_reading_count / float(total_student_count) * 100\n",
    "\n",
    "print(f'The percent of students who passed reading is {passing_reading_percentage}%')"
   ]
  },
  {
   "cell_type": "code",
   "execution_count": null,
   "id": "36b553ad",
   "metadata": {},
   "outputs": [],
   "source": [
    "#District Summary\n",
    "# Use the following to calculate the percentage of students that passed math and reading\n",
    "passing_math_reading_count = school_data_complete[\n",
    "    (school_data_complete[\"math_score\"] >= 70) & (school_data_complete[\"reading_score\"] >= 70)\n",
    "].count()[\"student_name\"]\n",
    "overall_passing_rate = passing_math_reading_count /  float(total_student_count) * 100\n",
    "\n",
    "print(f'The percent of students that passed math and reading is {overall_passing_rate}%')"
   ]
  },
  {
   "cell_type": "code",
   "execution_count": null,
   "id": "2f005869",
   "metadata": {},
   "outputs": [],
   "source": [
    "#District Summary\n",
    "# Create a high-level snapshot of the district's key metrics in a DataFrame\n",
    "district_metrics = ['Total Schools', 'Total Students', 'Total Budget', 'Average Math Score', 'Average Reading Score', '% passing Math', '% passing Reading', '% Overall Passing']\n",
    "\n",
    "district_data_summary = {district_metrics[0]: [total_schools],\n",
    "                         district_metrics[1]: [total_student_count],\n",
    "                         district_metrics[2]: [total_budget],\n",
    "                         district_metrics[3]: [average_math_score],\n",
    "                         district_metrics[4]: [average_reading_score],\n",
    "                         district_metrics[5]: [passing_math_percentage],\n",
    "                         district_metrics[6]: [passing_reading_percentage],\n",
    "                         district_metrics[7]: [overall_passing_rate]}\n",
    "\n",
    "district_summary = pd.DataFrame(district_data_summary)\n",
    "\n",
    "# Formatting\n",
    "district_summary[\"Total Students\"] = district_summary[\"Total Students\"].map(\"{:,}\".format)\n",
    "district_summary[\"Total Budget\"] = district_summary[\"Total Budget\"].map(\"${:,.2f}\".format)\n",
    "\n",
    "# Display the DataFrame\n",
    "district_summary"
   ]
  },
  {
   "cell_type": "code",
   "execution_count": null,
   "id": "49bc4bd9",
   "metadata": {},
   "outputs": [],
   "source": [
    "#School Summary\n",
    "# Use the code provided to select the school type\n",
    "school_types = school_data.set_index([\"school_name\"])[\"type\"]"
   ]
  },
  {
   "cell_type": "code",
   "execution_count": null,
   "id": "a87c9a8b",
   "metadata": {},
   "outputs": [],
   "source": [
    "#School Summary\n",
    "# Calculate the total student count\n",
    "per_school_counts = school_data_complete[\"school_name\"].value_counts()\n",
    "per_school_counts.head()"
   ]
  },
  {
   "cell_type": "code",
   "execution_count": null,
   "id": "90f01717",
   "metadata": {},
   "outputs": [],
   "source": [
    "#School Summary\n",
    "# Calculate the total school budget and per capita spending\n",
    "per_school_budget = school_data_complete.groupby([\"school_name\"]).mean()[\"budget\"]\n",
    "per_school_capita = per_school_budget / per_school_counts\n"
   ]
  },
  {
   "cell_type": "code",
   "execution_count": null,
   "id": "be812416",
   "metadata": {},
   "outputs": [],
   "source": [
    "#School Summary\n",
    "# Calculate the average test scores\n",
    "per_school_math = school_data_complete.groupby([\"school_name\"]).mean()[\"math_score\"]\n",
    "per_school_reading = school_data_complete.groupby([\"school_name\"]).mean()[\"reading_score\"]\n"
   ]
  },
  {
   "cell_type": "code",
   "execution_count": null,
   "id": "a18161c3",
   "metadata": {},
   "outputs": [],
   "source": [
    "#School Summary\n",
    "# Calculate the number of schools with math scores of 70 or higher\n",
    "school_passing_math = school_data_complete[school_data_complete[\"math_score\"] >= 70]\n",
    "num_school_passing_math = len(school_passing_math.drop_duplicates(subset=['school_name']))\n"
   ]
  },
  {
   "cell_type": "code",
   "execution_count": null,
   "id": "db41cb3c",
   "metadata": {},
   "outputs": [],
   "source": [
    "#School Summary\n",
    "# Calculate the number of schools with reading scores of 70 or higher\n",
    "school_passing_reading = school_data_complete[school_data_complete[\"reading_score\"] >= 70]\n",
    "num_school_passing_reading = len(school_passing_reading.drop_duplicates(subset=['school_name']))"
   ]
  },
  {
   "cell_type": "code",
   "execution_count": null,
   "id": "02431d28",
   "metadata": {},
   "outputs": [],
   "source": [
    "#School Summary\n",
    "# Use the provided code to calculate the schools that passed both math and reading with scores of 70 or higher\n",
    "passing_math_and_reading = school_data_complete[\n",
    "    (school_data_complete[\"reading_score\"] >= 70) & (school_data_complete[\"math_score\"] >= 70)\n",
    "]"
   ]
  },
  {
   "cell_type": "code",
   "execution_count": null,
   "id": "66035a4e",
   "metadata": {},
   "outputs": [],
   "source": [
    "#School Summary\n",
    "# Use the provided code to calculate the passing rates \n",
    "per_school_passing_math = school_passing_math.groupby([\"school_name\"]).count()[\"student_name\"] / per_school_counts * 100\n",
    "per_school_passing_reading = school_passing_reading.groupby([\"school_name\"]).count()[\"student_name\"] / per_school_counts * 100\n",
    "overall_passing_rate = passing_math_and_reading.groupby([\"school_name\"]).count()[\"student_name\"] / per_school_counts * 100\n"
   ]
  },
  {
   "cell_type": "code",
   "execution_count": null,
   "id": "0fcad1c2",
   "metadata": {
    "scrolled": true
   },
   "outputs": [],
   "source": [
    "#School Summary\n",
    "# Create a DataFrame called `per_school_summary` with columns for the calculations above.\n",
    "per_school_summary = pd.DataFrame({\n",
    "    \"School Type\": school_types,\n",
    "    \"Total Students\": per_school_counts,\n",
    "    \"Total School Budget\": per_school_budget,\n",
    "    \"Per Student Budget\": per_school_capita,\n",
    "    \"Average Math Score\": per_school_math,\n",
    "    \"Average Reading Score\": per_school_reading,\n",
    "    \"% Passing Math\": per_school_passing_math,\n",
    "    \"% Passing Reading\": per_school_passing_reading,\n",
    "    \"% Overall Passing\": overall_passing_rate\n",
    "})\n",
    "\n",
    "# Formatting\n",
    "per_school_summary[\"Total School Budget\"] = per_school_summary[\"Total School Budget\"].map(\"${:,.2f}\".format)\n",
    "per_school_summary[\"Per Student Budget\"] = per_school_summary[\"Per Student Budget\"].map(\"${:,.2f}\".format)\n",
    "\n",
    "# Display the DataFrame\n",
    "per_school_summary"
   ]
  },
  {
   "cell_type": "code",
   "execution_count": null,
   "id": "3ed85bca",
   "metadata": {},
   "outputs": [],
   "source": [
    "#Highest-Performing Schools (by % Overall Passing)\n",
    "# Sort the schools by `% Overall Passing` in descending order and display the top 5 rows.\n",
    "top_schools = per_school_summary.sort_values(by=\"% Overall Passing\", ascending=False)\n",
    "top_schools.head(5)\n"
   ]
  },
  {
   "cell_type": "code",
   "execution_count": null,
   "id": "7b468692",
   "metadata": {},
   "outputs": [],
   "source": [
    "#Bottom Performing Schools (By % Overall Passing)\n",
    "# Sort the schools by `% Overall Passing` in ascending order and display the top 5 rows.\n",
    "bottom_schools = per_school_summary.sort_values(by=\"% Overall Passing\", ascending=True)\n",
    "bottom_schools.head(5)"
   ]
  },
  {
   "cell_type": "code",
   "execution_count": null,
   "id": "58f3854d",
   "metadata": {},
   "outputs": [],
   "source": [
    "#Math Scores by Grade\n",
    "# Use the code provided to separate the data by grade\n",
    "ninth_graders = school_data_complete[(school_data_complete[\"grade\"] == \"9th\")]\n",
    "tenth_graders = school_data_complete[(school_data_complete[\"grade\"] == \"10th\")]\n",
    "eleventh_graders = school_data_complete[(school_data_complete[\"grade\"] == \"11th\")]\n",
    "twelfth_graders = school_data_complete[(school_data_complete[\"grade\"] == \"12th\")]\n",
    "\n",
    "# Group by \"school_name\" and take the mean of each.\n",
    "ninth_graders_scores = ninth_graders.groupby('school_name').mean()\n",
    "tenth_graders_scores = tenth_graders.groupby('school_name').mean()\n",
    "eleventh_graders_scores = eleventh_graders.groupby('school_name').mean()\n",
    "twelfth_graders_scores = twelfth_graders.groupby('school_name').mean()\n",
    "\n",
    "# Use the code to select only the `math_score`.\n",
    "ninth_grader_math_scores = ninth_graders_scores[\"math_score\"]\n",
    "tenth_grader_math_scores = tenth_graders_scores[\"math_score\"]\n",
    "eleventh_grader_math_scores = eleventh_graders_scores[\"math_score\"]\n",
    "twelfth_grader_math_scores = twelfth_graders_scores[\"math_score\"]\n",
    "\n",
    "# Combine each of the scores above into single DataFrame called `math_scores_by_grade`\n",
    "#create new dataframe\n",
    "math_scores_by_grade = pd.concat([ninth_grader_math_scores,\n",
    "                                  tenth_grader_math_scores,\n",
    "                                  eleventh_grader_math_scores,\n",
    "                                  twelfth_grader_math_scores], axis=1)\n",
    "#set columns\n",
    "math_scores_by_grade.columns = [\"9th Grade\", \"10th Grade\", \"11th Grade\", \"12th Grade\"]\n",
    "\n",
    "# Minor data wrangling\n",
    "math_scores_by_grade.index.name = None\n",
    "\n",
    "# Display the DataFrame\n",
    "math_scores_by_grade"
   ]
  },
  {
   "cell_type": "code",
   "execution_count": null,
   "id": "e01c1cdf",
   "metadata": {},
   "outputs": [],
   "source": [
    "#Reading Score by Grade\n",
    "# Use the code provided to separate the data by grade\n",
    "ninth_graders = school_data_complete[(school_data_complete[\"grade\"] == \"9th\")]\n",
    "tenth_graders = school_data_complete[(school_data_complete[\"grade\"] == \"10th\")]\n",
    "eleventh_graders = school_data_complete[(school_data_complete[\"grade\"] == \"11th\")]\n",
    "twelfth_graders = school_data_complete[(school_data_complete[\"grade\"] == \"12th\")]\n",
    "\n",
    "# Group by \"school_name\" and take the mean of each.\n",
    "ninth_graders_scores = ninth_graders.groupby('school_name').mean()\n",
    "tenth_graders_scores = tenth_graders.groupby('school_name').mean()\n",
    "eleventh_graders_scores = eleventh_graders.groupby('school_name').mean()\n",
    "twelfth_graders_scores = twelfth_graders.groupby('school_name').mean()\n",
    "\n",
    "# Use the code to select only the `reading_score`.\n",
    "ninth_grade_reading_scores = ninth_graders_scores[\"reading_score\"]\n",
    "tenth_grader_reading_scores = tenth_graders_scores[\"reading_score\"]\n",
    "eleventh_grader_reading_scores = eleventh_graders_scores[\"reading_score\"]\n",
    "twelfth_grader_reading_scores = twelfth_graders_scores[\"reading_score\"]\n",
    "\n",
    "# Combine each of the scores above into single DataFrame called `reading_scores_by_grade`\n",
    "reading_scores_by_grade = pd.concat([ninth_grader_math_scores,\n",
    "                                     tenth_grader_math_scores,\n",
    "                                     eleventh_grader_math_scores,\n",
    "                                     twelfth_grader_math_scores], axis=1)\n",
    "\n",
    "#Set Columns\n",
    "reading_scores_by_grade.columns = [\"9th Grade\", \"10th Grade\", \"11th Grade:\", \"12th Grade\"]\n",
    "\n",
    "#minor data wrangling\n",
    "reading_scores_by_grade.index.name = None\n",
    "\n",
    "# Display the DataFrame\n",
    "reading_scores_by_grade"
   ]
  },
  {
   "cell_type": "code",
   "execution_count": null,
   "id": "d41d5d60",
   "metadata": {},
   "outputs": [],
   "source": [
    "#scores by school spending\n",
    "#Establish the bins\n",
    "spending_bins = [0, 585, 630, 645, 680]\n",
    "labels = [\"<$585\", \"$585-630\", \"$630-645\", \"$645-680\"]"
   ]
  },
  {
   "cell_type": "code",
   "execution_count": null,
   "id": "470170fa",
   "metadata": {},
   "outputs": [],
   "source": [
    "# Create a copy of the school summary since it has the \"Per Student Budget\" \n",
    "school_spending_df = per_school_summary.copy()\n"
   ]
  },
  {
   "cell_type": "code",
   "execution_count": null,
   "id": "a6b47d8e",
   "metadata": {},
   "outputs": [],
   "source": [
    "# Use `pd.cut` to categorize spending based on the bins.\n",
    "#fix data type\n",
    "school_spending_df['Per Student Budget'] = school_spending_df['Per Student Budget'].str.replace('$', '').astype(float)\n",
    "school_spending_df[\"Spending Ranges (Per Student)\"] = pd.cut(school_spending_df['Per Student Budget'], bins=spending_bins, labels=labels)\n",
    "school_spending_df"
   ]
  },
  {
   "cell_type": "code",
   "execution_count": null,
   "id": "78933690",
   "metadata": {},
   "outputs": [],
   "source": [
    "#  Calculate averages for the desired columns. \n",
    "spending_math_scores = school_spending_df.groupby([\"Spending Ranges (Per Student)\"]).mean()[\"Average Math Score\"]\n",
    "spending_reading_scores = school_spending_df.groupby([\"Spending Ranges (Per Student)\"]).mean()[\"Average Reading Score\"]\n",
    "spending_passing_math = school_spending_df.groupby([\"Spending Ranges (Per Student)\"]).mean()[\"% Passing Math\"]\n",
    "spending_passing_reading = school_spending_df.groupby([\"Spending Ranges (Per Student)\"]).mean()[\"% Passing Reading\"]\n",
    "overall_passing_spending = school_spending_df.groupby([\"Spending Ranges (Per Student)\"]).mean()[\"% Overall Passing\"]"
   ]
  },
  {
   "cell_type": "code",
   "execution_count": null,
   "id": "fa17a1be",
   "metadata": {},
   "outputs": [],
   "source": [
    "# Assemble into DataFrame\n",
    "spending_summary = pd.concat([spending_math_scores,\n",
    "                              spending_reading_scores,\n",
    "                              spending_passing_math,\n",
    "                              spending_passing_reading,\n",
    "                              overall_passing_spending], axis = 1)\n",
    "# Display results\n",
    "spending_summary"
   ]
  },
  {
   "cell_type": "code",
   "execution_count": null,
   "id": "2443b853",
   "metadata": {},
   "outputs": [],
   "source": [
    "#Score by School Size\n",
    "#Establish the Bins\n",
    "size_bins = [0, 1000, 2000, 5000]\n",
    "labels = [\"Small (<1000)\", \"Medium (1000-2000)\", \"Large (2000-5000)\"]"
   ]
  },
  {
   "cell_type": "code",
   "execution_count": null,
   "id": "00c6d204",
   "metadata": {},
   "outputs": [],
   "source": [
    "# Categorize the spending based on the bins\n",
    "# Use `pd.cut` on the \"Total Students\" column of the `per_school_summary` DataFrame.\n",
    "\n",
    "per_school_summary_size = per_school_summary.copy()\n",
    "per_school_summary_size[\"School Size\"] = pd.cut(per_school_summary_size['Total Students'], bins=size_bins, labels=labels)\n",
    "per_school_summary_size"
   ]
  },
  {
   "cell_type": "code",
   "execution_count": null,
   "id": "270a2f32",
   "metadata": {},
   "outputs": [],
   "source": [
    "# Calculate averages for the desired columns. \n",
    "size_math_scores = per_school_summary_size.groupby([\"School Size\"]).mean()[\"Average Math Score\"]\n",
    "size_reading_scores = per_school_summary_size.groupby([\"School Size\"]).mean()[\"Average Reading Score\"]\n",
    "size_passing_math = per_school_summary_size.groupby([\"School Size\"]).mean()[\"% Passing Math\"]\n",
    "size_passing_reading = per_school_summary_size.groupby([\"School Size\"]).mean()[\"% Passing Reading\"]\n",
    "size_overall_passing = per_school_summary_size.groupby([\"School Size\"]).mean()[\"% Overall Passing\"]"
   ]
  },
  {
   "cell_type": "code",
   "execution_count": null,
   "id": "3d71a389",
   "metadata": {},
   "outputs": [],
   "source": [
    "# Create a DataFrame called `size_summary` that breaks down school performance based on school size (small, medium, or large).\n",
    "# Use the scores above to create a new DataFrame called `size_summary`\n",
    "size_summary = pd.concat([size_math_scores,\n",
    "                          size_reading_scores,\n",
    "                          size_passing_math,\n",
    "                          size_passing_reading,\n",
    "                          size_overall_passing], axis = 1 )\n",
    "\n",
    "# Display results\n",
    "size_summary"
   ]
  },
  {
   "cell_type": "code",
   "execution_count": null,
   "id": "b3400dd8",
   "metadata": {},
   "outputs": [],
   "source": []
  }
 ],
 "metadata": {
  "kernelspec": {
   "display_name": "PythonData",
   "language": "python",
   "name": "pythondata"
  },
  "language_info": {
   "codemirror_mode": {
    "name": "ipython",
    "version": 3
   },
   "file_extension": ".py",
   "mimetype": "text/x-python",
   "name": "python",
   "nbconvert_exporter": "python",
   "pygments_lexer": "ipython3",
   "version": "3.7.7"
  }
 },
 "nbformat": 4,
 "nbformat_minor": 5
}
